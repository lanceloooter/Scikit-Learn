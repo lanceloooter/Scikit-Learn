{
 "cells": [
  {
   "cell_type": "markdown",
   "id": "3c305db0-5edf-4604-9e4e-ccd7f65d3c96",
   "metadata": {},
   "source": [
    "#### Scikit Learn (Training a Perceptron)\n",
    "##### Submitted by: Lance Dominic C. Raquel"
   ]
  },
  {
   "cell_type": "markdown",
   "id": "0f71b5f9-c73b-4120-b9e8-8e2d11ecfabd",
   "metadata": {},
   "source": [
    "##### Part I – Importing the Dataset and Select Income and Spending Score as Features (5 pts.)"
   ]
  },
  {
   "cell_type": "code",
   "execution_count": 1,
   "id": "cd7f2c33-b037-44b1-94b3-690b84ce5f59",
   "metadata": {
    "tags": []
   },
   "outputs": [],
   "source": [
    "import pandas as pd\n",
    "import numpy as np\n",
    "import matplotlib.pyplot as plt\n",
    "import seaborn as sns\n",
    "import warnings\n",
    "import sklearn.cluster as cluster\n",
    "from sklearn.model_selection import train_test_split\n",
    "from sklearn.preprocessing import StandardScaler\n",
    "from sklearn.linear_model import Perceptron\n",
    "from sklearn.metrics import accuracy_score\n",
    "from matplotlib.colors import ListedColormap\n",
    "\n",
    "warnings.filterwarnings(\"ignore\")"
   ]
  },
  {
   "cell_type": "markdown",
   "id": "ca95a7ed-c002-496f-a578-84b696b55819",
   "metadata": {},
   "source": [
    "##### 1.) Import the Mall_Customers2.csv in Python and store it as numpy."
   ]
  },
  {
   "cell_type": "code",
   "execution_count": 18,
   "id": "1d74f9da-b32e-42b7-be93-ea685ad8c976",
   "metadata": {
    "tags": []
   },
   "outputs": [
    {
     "data": {
      "text/html": [
       "<div>\n",
       "<style scoped>\n",
       "    .dataframe tbody tr th:only-of-type {\n",
       "        vertical-align: middle;\n",
       "    }\n",
       "\n",
       "    .dataframe tbody tr th {\n",
       "        vertical-align: top;\n",
       "    }\n",
       "\n",
       "    .dataframe thead th {\n",
       "        text-align: right;\n",
       "    }\n",
       "</style>\n",
       "<table border=\"1\" class=\"dataframe\">\n",
       "  <thead>\n",
       "    <tr style=\"text-align: right;\">\n",
       "      <th></th>\n",
       "      <th>Unnamed: 0</th>\n",
       "      <th>CustomerID</th>\n",
       "      <th>Gender</th>\n",
       "      <th>Age</th>\n",
       "      <th>Income</th>\n",
       "      <th>Spending Score</th>\n",
       "      <th>Clusters</th>\n",
       "    </tr>\n",
       "  </thead>\n",
       "  <tbody>\n",
       "    <tr>\n",
       "      <th>0</th>\n",
       "      <td>0</td>\n",
       "      <td>1</td>\n",
       "      <td>Male</td>\n",
       "      <td>19</td>\n",
       "      <td>15</td>\n",
       "      <td>39</td>\n",
       "      <td>3</td>\n",
       "    </tr>\n",
       "    <tr>\n",
       "      <th>1</th>\n",
       "      <td>1</td>\n",
       "      <td>2</td>\n",
       "      <td>Male</td>\n",
       "      <td>21</td>\n",
       "      <td>15</td>\n",
       "      <td>81</td>\n",
       "      <td>2</td>\n",
       "    </tr>\n",
       "    <tr>\n",
       "      <th>2</th>\n",
       "      <td>2</td>\n",
       "      <td>3</td>\n",
       "      <td>Female</td>\n",
       "      <td>20</td>\n",
       "      <td>16</td>\n",
       "      <td>6</td>\n",
       "      <td>3</td>\n",
       "    </tr>\n",
       "    <tr>\n",
       "      <th>3</th>\n",
       "      <td>3</td>\n",
       "      <td>4</td>\n",
       "      <td>Female</td>\n",
       "      <td>23</td>\n",
       "      <td>16</td>\n",
       "      <td>77</td>\n",
       "      <td>2</td>\n",
       "    </tr>\n",
       "    <tr>\n",
       "      <th>4</th>\n",
       "      <td>4</td>\n",
       "      <td>5</td>\n",
       "      <td>Female</td>\n",
       "      <td>31</td>\n",
       "      <td>17</td>\n",
       "      <td>40</td>\n",
       "      <td>3</td>\n",
       "    </tr>\n",
       "    <tr>\n",
       "      <th>...</th>\n",
       "      <td>...</td>\n",
       "      <td>...</td>\n",
       "      <td>...</td>\n",
       "      <td>...</td>\n",
       "      <td>...</td>\n",
       "      <td>...</td>\n",
       "      <td>...</td>\n",
       "    </tr>\n",
       "    <tr>\n",
       "      <th>195</th>\n",
       "      <td>195</td>\n",
       "      <td>196</td>\n",
       "      <td>Female</td>\n",
       "      <td>35</td>\n",
       "      <td>120</td>\n",
       "      <td>79</td>\n",
       "      <td>1</td>\n",
       "    </tr>\n",
       "    <tr>\n",
       "      <th>196</th>\n",
       "      <td>196</td>\n",
       "      <td>197</td>\n",
       "      <td>Female</td>\n",
       "      <td>45</td>\n",
       "      <td>126</td>\n",
       "      <td>28</td>\n",
       "      <td>4</td>\n",
       "    </tr>\n",
       "    <tr>\n",
       "      <th>197</th>\n",
       "      <td>197</td>\n",
       "      <td>198</td>\n",
       "      <td>Male</td>\n",
       "      <td>32</td>\n",
       "      <td>126</td>\n",
       "      <td>74</td>\n",
       "      <td>1</td>\n",
       "    </tr>\n",
       "    <tr>\n",
       "      <th>198</th>\n",
       "      <td>198</td>\n",
       "      <td>199</td>\n",
       "      <td>Male</td>\n",
       "      <td>32</td>\n",
       "      <td>137</td>\n",
       "      <td>18</td>\n",
       "      <td>4</td>\n",
       "    </tr>\n",
       "    <tr>\n",
       "      <th>199</th>\n",
       "      <td>199</td>\n",
       "      <td>200</td>\n",
       "      <td>Male</td>\n",
       "      <td>30</td>\n",
       "      <td>137</td>\n",
       "      <td>83</td>\n",
       "      <td>1</td>\n",
       "    </tr>\n",
       "  </tbody>\n",
       "</table>\n",
       "<p>200 rows × 7 columns</p>\n",
       "</div>"
      ],
      "text/plain": [
       "     Unnamed: 0  CustomerID  Gender  Age  Income  Spending Score  Clusters\n",
       "0             0           1    Male   19      15              39         3\n",
       "1             1           2    Male   21      15              81         2\n",
       "2             2           3  Female   20      16               6         3\n",
       "3             3           4  Female   23      16              77         2\n",
       "4             4           5  Female   31      17              40         3\n",
       "..          ...         ...     ...  ...     ...             ...       ...\n",
       "195         195         196  Female   35     120              79         1\n",
       "196         196         197  Female   45     126              28         4\n",
       "197         197         198    Male   32     126              74         1\n",
       "198         198         199    Male   32     137              18         4\n",
       "199         199         200    Male   30     137              83         1\n",
       "\n",
       "[200 rows x 7 columns]"
      ]
     },
     "execution_count": 18,
     "metadata": {},
     "output_type": "execute_result"
    }
   ],
   "source": [
    "df = pd.read_csv('Mall_Customers2.csv')\n",
    "df"
   ]
  },
  {
   "cell_type": "markdown",
   "id": "9a42e3bb-41f1-4c95-a00a-725d3589b087",
   "metadata": {},
   "source": [
    "##### 2.) From the data set select Income and Spending score as features."
   ]
  },
  {
   "cell_type": "code",
   "execution_count": 5,
   "id": "b79c2b00-6adc-44a5-ace8-b725c8eef1d5",
   "metadata": {
    "tags": []
   },
   "outputs": [
    {
     "data": {
      "text/html": [
       "<div>\n",
       "<style scoped>\n",
       "    .dataframe tbody tr th:only-of-type {\n",
       "        vertical-align: middle;\n",
       "    }\n",
       "\n",
       "    .dataframe tbody tr th {\n",
       "        vertical-align: top;\n",
       "    }\n",
       "\n",
       "    .dataframe thead th {\n",
       "        text-align: right;\n",
       "    }\n",
       "</style>\n",
       "<table border=\"1\" class=\"dataframe\">\n",
       "  <thead>\n",
       "    <tr style=\"text-align: right;\">\n",
       "      <th></th>\n",
       "      <th>Income</th>\n",
       "      <th>Spending Score</th>\n",
       "    </tr>\n",
       "  </thead>\n",
       "  <tbody>\n",
       "    <tr>\n",
       "      <th>0</th>\n",
       "      <td>15</td>\n",
       "      <td>39</td>\n",
       "    </tr>\n",
       "    <tr>\n",
       "      <th>1</th>\n",
       "      <td>15</td>\n",
       "      <td>81</td>\n",
       "    </tr>\n",
       "    <tr>\n",
       "      <th>2</th>\n",
       "      <td>16</td>\n",
       "      <td>6</td>\n",
       "    </tr>\n",
       "    <tr>\n",
       "      <th>3</th>\n",
       "      <td>16</td>\n",
       "      <td>77</td>\n",
       "    </tr>\n",
       "    <tr>\n",
       "      <th>4</th>\n",
       "      <td>17</td>\n",
       "      <td>40</td>\n",
       "    </tr>\n",
       "    <tr>\n",
       "      <th>...</th>\n",
       "      <td>...</td>\n",
       "      <td>...</td>\n",
       "    </tr>\n",
       "    <tr>\n",
       "      <th>195</th>\n",
       "      <td>120</td>\n",
       "      <td>79</td>\n",
       "    </tr>\n",
       "    <tr>\n",
       "      <th>196</th>\n",
       "      <td>126</td>\n",
       "      <td>28</td>\n",
       "    </tr>\n",
       "    <tr>\n",
       "      <th>197</th>\n",
       "      <td>126</td>\n",
       "      <td>74</td>\n",
       "    </tr>\n",
       "    <tr>\n",
       "      <th>198</th>\n",
       "      <td>137</td>\n",
       "      <td>18</td>\n",
       "    </tr>\n",
       "    <tr>\n",
       "      <th>199</th>\n",
       "      <td>137</td>\n",
       "      <td>83</td>\n",
       "    </tr>\n",
       "  </tbody>\n",
       "</table>\n",
       "<p>200 rows × 2 columns</p>\n",
       "</div>"
      ],
      "text/plain": [
       "     Income  Spending Score\n",
       "0        15              39\n",
       "1        15              81\n",
       "2        16               6\n",
       "3        16              77\n",
       "4        17              40\n",
       "..      ...             ...\n",
       "195     120              79\n",
       "196     126              28\n",
       "197     126              74\n",
       "198     137              18\n",
       "199     137              83\n",
       "\n",
       "[200 rows x 2 columns]"
      ]
     },
     "execution_count": 5,
     "metadata": {},
     "output_type": "execute_result"
    }
   ],
   "source": [
    "X = df.loc[:,'Income':'Spending Score']\n",
    "X"
   ]
  },
  {
   "cell_type": "markdown",
   "id": "a415090c-d3e7-41ef-9be0-41247a3e8c0d",
   "metadata": {},
   "source": [
    "##### 3.) Select the Cluster column as the target values for each sample. Don’t forget to use .astype() to cast the pandas object to a specified dtype."
   ]
  },
  {
   "cell_type": "code",
   "execution_count": 6,
   "id": "986762d4-416d-4ad8-913e-b57da446de0a",
   "metadata": {
    "tags": []
   },
   "outputs": [
    {
     "data": {
      "text/plain": [
       "0      3\n",
       "1      2\n",
       "2      3\n",
       "3      2\n",
       "4      3\n",
       "      ..\n",
       "195    1\n",
       "196    4\n",
       "197    1\n",
       "198    4\n",
       "199    1\n",
       "Name: Clusters, Length: 200, dtype: category\n",
       "Categories (5, int64): [0, 1, 2, 3, 4]"
      ]
     },
     "execution_count": 6,
     "metadata": {},
     "output_type": "execute_result"
    }
   ],
   "source": [
    "y = df.loc[:,'Clusters'].astype('category')\n",
    "y"
   ]
  },
  {
   "cell_type": "markdown",
   "id": "4de56293-69ea-48f9-b5af-d45ff236bcf9",
   "metadata": {
    "tags": []
   },
   "source": [
    "##### 4.) Print the class labels of the target values."
   ]
  },
  {
   "cell_type": "code",
   "execution_count": 8,
   "id": "2be63dc2-4566-412e-9261-e0b33c5bb77f",
   "metadata": {
    "tags": []
   },
   "outputs": [
    {
     "name": "stdout",
     "output_type": "stream",
     "text": [
      "Class: 3\n",
      "Class: 2\n",
      "Class: 0\n",
      "Class: 1\n",
      "Class: 4\n"
     ]
    }
   ],
   "source": [
    "for i in y.unique():\n",
    "  print(f'Class: {i}')"
   ]
  },
  {
   "cell_type": "markdown",
   "id": "12260d50-80a4-4387-93e8-b28aad2beaf4",
   "metadata": {},
   "source": [
    "#### Part III – Training the Perceptron (5 pts.)"
   ]
  },
  {
   "cell_type": "markdown",
   "id": "e7761c6f-74f7-497e-bb8f-52e8468dd5c0",
   "metadata": {
    "tags": []
   },
   "source": [
    "##### 1. Split the dataset to training data and test set with 30% test size and random state 1."
   ]
  },
  {
   "cell_type": "code",
   "execution_count": 10,
   "id": "7301656c-30c6-4360-ad44-c1d8810dc8a4",
   "metadata": {
    "tags": []
   },
   "outputs": [
    {
     "name": "stdout",
     "output_type": "stream",
     "text": [
      "Labels count in y_train: [57 27 15 16 25]\n",
      "Labels count in y_test: [24 12  7  7 10]\n"
     ]
    }
   ],
   "source": [
    "X_train, X_test, y_train, y_test = train_test_split(X, y, test_size = 0.3, random_state = 1, stratify = y)\n",
    "print('Labels count in y_train:', np.bincount(y_train))\n",
    "print('Labels count in y_test:', np.bincount(y_test))"
   ]
  },
  {
   "cell_type": "markdown",
   "id": "175d0414-670c-4f81-980a-105a1b74a81c",
   "metadata": {},
   "source": [
    "##### 2. Implement the feature scaling method."
   ]
  },
  {
   "cell_type": "code",
   "execution_count": 11,
   "id": "9cc0280e-4cd0-4822-adf3-7cfe4acd9c4a",
   "metadata": {
    "tags": []
   },
   "outputs": [],
   "source": [
    "sc = StandardScaler()\n",
    "sc.fit(X_train)\n",
    "X_train_std = sc.transform(X_train)\n",
    "X_test_std = sc.transform(X_test)"
   ]
  },
  {
   "cell_type": "markdown",
   "id": "1f2f1453-f3b2-49a8-bebc-a153e00c8c08",
   "metadata": {},
   "source": [
    "##### 3. Train the perceptron by fitting the train data set using the Perceptron class and fit method from the linear_module with 40 iterations, 0.1 learning rate, random_state=1"
   ]
  },
  {
   "cell_type": "code",
   "execution_count": 12,
   "id": "89da840f-ce12-415b-9d5b-308140b5bb44",
   "metadata": {
    "tags": []
   },
   "outputs": [
    {
     "data": {
      "text/html": [
       "<style>#sk-container-id-1 {color: black;background-color: white;}#sk-container-id-1 pre{padding: 0;}#sk-container-id-1 div.sk-toggleable {background-color: white;}#sk-container-id-1 label.sk-toggleable__label {cursor: pointer;display: block;width: 100%;margin-bottom: 0;padding: 0.3em;box-sizing: border-box;text-align: center;}#sk-container-id-1 label.sk-toggleable__label-arrow:before {content: \"▸\";float: left;margin-right: 0.25em;color: #696969;}#sk-container-id-1 label.sk-toggleable__label-arrow:hover:before {color: black;}#sk-container-id-1 div.sk-estimator:hover label.sk-toggleable__label-arrow:before {color: black;}#sk-container-id-1 div.sk-toggleable__content {max-height: 0;max-width: 0;overflow: hidden;text-align: left;background-color: #f0f8ff;}#sk-container-id-1 div.sk-toggleable__content pre {margin: 0.2em;color: black;border-radius: 0.25em;background-color: #f0f8ff;}#sk-container-id-1 input.sk-toggleable__control:checked~div.sk-toggleable__content {max-height: 200px;max-width: 100%;overflow: auto;}#sk-container-id-1 input.sk-toggleable__control:checked~label.sk-toggleable__label-arrow:before {content: \"▾\";}#sk-container-id-1 div.sk-estimator input.sk-toggleable__control:checked~label.sk-toggleable__label {background-color: #d4ebff;}#sk-container-id-1 div.sk-label input.sk-toggleable__control:checked~label.sk-toggleable__label {background-color: #d4ebff;}#sk-container-id-1 input.sk-hidden--visually {border: 0;clip: rect(1px 1px 1px 1px);clip: rect(1px, 1px, 1px, 1px);height: 1px;margin: -1px;overflow: hidden;padding: 0;position: absolute;width: 1px;}#sk-container-id-1 div.sk-estimator {font-family: monospace;background-color: #f0f8ff;border: 1px dotted black;border-radius: 0.25em;box-sizing: border-box;margin-bottom: 0.5em;}#sk-container-id-1 div.sk-estimator:hover {background-color: #d4ebff;}#sk-container-id-1 div.sk-parallel-item::after {content: \"\";width: 100%;border-bottom: 1px solid gray;flex-grow: 1;}#sk-container-id-1 div.sk-label:hover label.sk-toggleable__label {background-color: #d4ebff;}#sk-container-id-1 div.sk-serial::before {content: \"\";position: absolute;border-left: 1px solid gray;box-sizing: border-box;top: 0;bottom: 0;left: 50%;z-index: 0;}#sk-container-id-1 div.sk-serial {display: flex;flex-direction: column;align-items: center;background-color: white;padding-right: 0.2em;padding-left: 0.2em;position: relative;}#sk-container-id-1 div.sk-item {position: relative;z-index: 1;}#sk-container-id-1 div.sk-parallel {display: flex;align-items: stretch;justify-content: center;background-color: white;position: relative;}#sk-container-id-1 div.sk-item::before, #sk-container-id-1 div.sk-parallel-item::before {content: \"\";position: absolute;border-left: 1px solid gray;box-sizing: border-box;top: 0;bottom: 0;left: 50%;z-index: -1;}#sk-container-id-1 div.sk-parallel-item {display: flex;flex-direction: column;z-index: 1;position: relative;background-color: white;}#sk-container-id-1 div.sk-parallel-item:first-child::after {align-self: flex-end;width: 50%;}#sk-container-id-1 div.sk-parallel-item:last-child::after {align-self: flex-start;width: 50%;}#sk-container-id-1 div.sk-parallel-item:only-child::after {width: 0;}#sk-container-id-1 div.sk-dashed-wrapped {border: 1px dashed gray;margin: 0 0.4em 0.5em 0.4em;box-sizing: border-box;padding-bottom: 0.4em;background-color: white;}#sk-container-id-1 div.sk-label label {font-family: monospace;font-weight: bold;display: inline-block;line-height: 1.2em;}#sk-container-id-1 div.sk-label-container {text-align: center;}#sk-container-id-1 div.sk-container {/* jupyter's `normalize.less` sets `[hidden] { display: none; }` but bootstrap.min.css set `[hidden] { display: none !important; }` so we also need the `!important` here to be able to override the default hidden behavior on the sphinx rendered scikit-learn.org. See: https://github.com/scikit-learn/scikit-learn/issues/21755 */display: inline-block !important;position: relative;}#sk-container-id-1 div.sk-text-repr-fallback {display: none;}</style><div id=\"sk-container-id-1\" class=\"sk-top-container\"><div class=\"sk-text-repr-fallback\"><pre>Perceptron(eta0=0.1, n_iter_no_change=40, random_state=1)</pre><b>In a Jupyter environment, please rerun this cell to show the HTML representation or trust the notebook. <br />On GitHub, the HTML representation is unable to render, please try loading this page with nbviewer.org.</b></div><div class=\"sk-container\" hidden><div class=\"sk-item\"><div class=\"sk-estimator sk-toggleable\"><input class=\"sk-toggleable__control sk-hidden--visually\" id=\"sk-estimator-id-1\" type=\"checkbox\" checked><label for=\"sk-estimator-id-1\" class=\"sk-toggleable__label sk-toggleable__label-arrow\">Perceptron</label><div class=\"sk-toggleable__content\"><pre>Perceptron(eta0=0.1, n_iter_no_change=40, random_state=1)</pre></div></div></div></div></div>"
      ],
      "text/plain": [
       "Perceptron(eta0=0.1, n_iter_no_change=40, random_state=1)"
      ]
     },
     "execution_count": 12,
     "metadata": {},
     "output_type": "execute_result"
    }
   ],
   "source": [
    "ppn = Perceptron(n_iter_no_change = 40, eta0 = 0.1, random_state = 1)\n",
    "ppn.fit(X_train_std, y_train)"
   ]
  },
  {
   "cell_type": "markdown",
   "id": "efe5031d-93ce-4a5b-81a3-cca6767af40e",
   "metadata": {},
   "source": [
    "#### Part IV – Evaluate the Perceptron Model (5 pts.)\n",
    "##### 1. Count the number of misclassified samples."
   ]
  },
  {
   "cell_type": "code",
   "execution_count": 13,
   "id": "944594a6-8d86-41d9-836d-c6e404b06430",
   "metadata": {
    "tags": []
   },
   "outputs": [
    {
     "name": "stdout",
     "output_type": "stream",
     "text": [
      "Misclassified samples: 2\n"
     ]
    }
   ],
   "source": [
    "y_pred = ppn.predict(X_test_std)\n",
    "print(f'Misclassified samples: {(y_test != y_pred).sum()}')"
   ]
  },
  {
   "cell_type": "markdown",
   "id": "1430643a-f030-4801-866d-5df7cc0cea19",
   "metadata": {},
   "source": [
    "##### 2. Print the accuracy of the Perceptron model."
   ]
  },
  {
   "cell_type": "code",
   "execution_count": 14,
   "id": "d0b82e54-7bc5-4ed0-bce4-b9d029b8d810",
   "metadata": {
    "tags": []
   },
   "outputs": [
    {
     "name": "stdout",
     "output_type": "stream",
     "text": [
      "Accuracy: 0.97\n",
      "Accuracy: 0.97\n"
     ]
    }
   ],
   "source": [
    "print(f'Accuracy: {accuracy_score(y_test, y_pred):.2f}')\n",
    "print(f'Accuracy: {ppn.score(X_test_std, y_test):.2f}')"
   ]
  },
  {
   "cell_type": "markdown",
   "id": "01f62e4f-ed4d-4185-aa98-12a7a6adee54",
   "metadata": {},
   "source": [
    "#### Part V – Plotting the decision regions and the Data (15 pts.)\n",
    "##### 1. Plot the different decision regions using Matplot. Set the Income (standardized) as the x-axis and the Spending Score (standardized) as the y-axis\n",
    "\n",
    "##### 2. Visualize how well the decision regions separate the different samples in the plot. Use different colors and markers for the different class types for the scatter plot of the samples.\n",
    "\n",
    "##### 3. Highlight the test samples by encircling them.\n",
    "\n",
    "##### 4. Put a legend that labels the class types of the different shapes in the scatter plot."
   ]
  },
  {
   "cell_type": "code",
   "execution_count": 36,
   "id": "3b431dd5-3858-4c95-8ca4-d1e58e7a19f6",
   "metadata": {
    "tags": []
   },
   "outputs": [
    {
     "data": {
      "image/png": "[encoded data removed]",
      "text/plain": [
       "<Figure size 640x480 with 1 Axes>"
      ]
     },
     "metadata": {},
     "output_type": "display_data"
    }
   ],
   "source": [
    "def plot_decision_regions(X, y, classifier, test_idx = None, resolution = 0.02):\n",
    "  markers = ('s', 'x', 'o', '^', 'v')\n",
    "  colors = ('red', 'blue', 'lightgreen', 'gray', 'cyan')\n",
    "  cmap = ListedColormap(colors[:len(np.unique(y))])\n",
    "\n",
    "  x1_min, x1_max = X[:,0].min() - 1, X[:, 0].max() + 1\n",
    "  x2_min, x2_max = X[:,1].min() - 1, X[:, 1].max() + 1\n",
    "  xx1, xx2 = np.meshgrid(np.arange(x1_min, x1_max, resolution),\n",
    "                         np.arange(x2_min, x2_max, resolution))\n",
    "  Z = classifier.predict(np.array([xx1.ravel(), xx2.ravel()]).T)\n",
    "  Z = Z.reshape(xx1.shape)\n",
    "  plt.contourf(xx1, xx2, Z, alpha = 0.3, cmap = cmap)\n",
    "  plt.xlim(xx1.min(), xx1.max())\n",
    "  plt.ylim(xx2.min(), xx2.max())\n",
    "\n",
    "  for idx, cl in enumerate(np.unique(y)):\n",
    "    plt.scatter(x = X[y == cl, 0], y = X[y == cl, 1], alpha = 0.8,\n",
    "                c = colors[idx], marker = markers[idx], label = cl,\n",
    "                edgecolor = 'black')\n",
    "\n",
    "  if test_idx:\n",
    "    X_test, y_test = X[test_idx, :], y[test_idx]\n",
    "    plt.scatter(X_test[:, 0], X_test[:, 1], c= 'None', edgecolor = 'Purple',\n",
    "                alpha = 1.0, linewidth = 1, marker = 'o', s = 100,\n",
    "                label = 'test set')\n",
    "\n",
    "X_combined_std = np.vstack((X_train_std, X_test_std))\n",
    "y_combined = np.hstack((y_train, y_test))\n",
    "plot_decision_regions(X = X_combined_std, y = y_combined, classifier = ppn, test_idx = range(140,200))\n",
    "plt.xlabel('Petal length [Standardized]')\n",
    "plt.ylabel('Petal width [Standardized]')\n",
    "plt.legend(loc = 'lower right', fontsize = \"8\")\n",
    "plt.show()"
   ]
  }
 ],
 "metadata": {
  "kernelspec": {
   "display_name": "Python 3 (ipykernel)",
   "language": "python",
   "name": "python3"
  },
  "language_info": {
   "codemirror_mode": {
    "name": "ipython",
    "version": 3
   },
   "file_extension": ".py",
   "mimetype": "text/x-python",
   "name": "python",
   "nbconvert_exporter": "python",
   "pygments_lexer": "ipython3",
   "version": "3.11.7"
  },
  "widgets": {
   "application/vnd.jupyter.widget-state+json": {
    "state": {},
    "version_major": 2,
    "version_minor": 0
   }
  }
 },
 "nbformat": 4,
 "nbformat_minor": 5
}
